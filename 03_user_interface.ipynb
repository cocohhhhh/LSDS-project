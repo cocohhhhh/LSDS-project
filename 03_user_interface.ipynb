{
 "cells": [
  {
   "cell_type": "code",
   "execution_count": null,
   "id": "8990414b-4f4d-4260-aa6c-0c7139271060",
   "metadata": {},
   "outputs": [],
   "source": [
    "%load_ext autoreload\n",
    "%autoreload 2"
   ]
  },
  {
   "cell_type": "code",
   "execution_count": null,
   "id": "81cf2b5e-56fc-4e46-840a-9f9ca73ad65d",
   "metadata": {},
   "outputs": [],
   "source": [
    "import pyspark\n",
    "from pyspark.sql import SparkSession\n",
    "\n",
    "from pyspark.sql import functions as F\n",
    "from pyspark.sql.functions import udf\n",
    "from pyspark.sql.types import IntegerType\n",
    "\n",
    "from src.journey_finder import JourneyFinder\n",
    "from src.delay_prediction import DelayPredictor\n",
    "\n",
    "from pyspark.ml import PipelineModel\n",
    "import getpass\n",
    "import os"
   ]
  },
  {
   "cell_type": "code",
   "execution_count": null,
   "id": "198db2a7-6872-4649-884b-8b3d4eaf9901",
   "metadata": {},
   "outputs": [],
   "source": [
    "spark = SparkSession.builder.appName('final-project-{0}'.format(getpass.getuser())).getOrCreate()\n",
    "\n",
    "sc = spark.sparkContext\n",
    "conf = sc.getConf()\n",
    "\n",
    "spark\n",
    "print(f'Start Spark name:{spark._sc.appName}, version:{spark.version}')"
   ]
  },
  {
   "cell_type": "code",
   "execution_count": null,
   "id": "dcf9beec-13af-438c-a373-ad627bdea0c4",
   "metadata": {},
   "outputs": [],
   "source": [
    "username  = os.environ.get('USER', 'anonym') #'kli' if team member testing\n",
    "#username = 'kli' uncomment for team testing\n",
    "loadedPipelineModel = PipelineModel.load(f\"/user/{username}/models\")\n",
    "\n",
    "hdfs_path = f\"/user/{username}/features_with_edge_stats.parquet\"\n",
    "features_with_stats = spark.read.parquet(hdfs_path)"
   ]
  },
  {
   "cell_type": "code",
   "execution_count": null,
   "id": "c81b43f6-e0fa-437c-bca7-b6e543071e75",
   "metadata": {},
   "outputs": [],
   "source": [
    "delayPredictor = DelayPredictor(features_with_stats=features_with_stats, loadedPipelineModel=loadedPipelineModel, spark=spark)"
   ]
  },
  {
   "cell_type": "code",
   "execution_count": null,
   "id": "c27af561-960a-466c-b536-91d4c778ced2",
   "metadata": {
    "scrolled": true
   },
   "outputs": [],
   "source": [
    "import datetime\n",
    "import pandas as pd\n",
    "import ipywidgets as widgets\n",
    "from IPython.display import display\n",
    "import json\n",
    "\n",
    "# NOTE: remember to run data preparation. Otherwise the files below\n",
    "# may be not relevant to the area you are interested in.\n",
    "timetable = pd.read_csv('data/timetable.csv')\n",
    "footpaths = pd.read_csv('data/footpaths.csv')\n",
    "stops_info = pd.read_csv('data/stops.csv')\n",
    "stops_info['stop_name_id'] = stops_info['stop_name'] + \" (\" + stops_info['stop_id'] + \")\"\n",
    "stops_matching = pd.read_csv('data/stop_matching.csv').set_index('journey_stop_id')['isdaten_stop_id'].to_dict()\n",
    "\n",
    "# Define the journey finder object, it contains all the logic.\n",
    "journey_finder = JourneyFinder(\n",
    "    timetable=timetable,\n",
    "    footpaths=footpaths,\n",
    "    stops_info=stops_info,\n",
    "    delay_predictor=delayPredictor,\n",
    "    stops_matching=stops_matching\n",
    ")\n",
    "\n",
    "# Ensure that the stops offered in the UI are also present in the other dataframes.\n",
    "possible_stops = set(timetable['dep_stop']).union(set(timetable['arr_stop'])).union(set(footpaths['stop_id_a'])).union(set(footpaths['stop_id_b']))\n",
    "stops_info_subset = stops_info[stops_info['stop_id'].isin(possible_stops)]\n",
    "\n",
    "source_widget = widgets.Dropdown(\n",
    "    options=sorted(list(set(stops_info_subset['stop_name_id']))),\n",
    "    description='Origin Stop:',\n",
    ")\n",
    "\n",
    "destination_widget = widgets.Dropdown(\n",
    "    options=sorted(list(set(stops_info_subset['stop_name_id']))),\n",
    "    description='Dest. Stop:',\n",
    ")\n",
    "\n",
    "day_widget = widgets.Dropdown(\n",
    "    options=['Monday', 'Tuesday', 'Wednesday', 'Thursday', 'Friday', 'Saturday', 'Sunday'],\n",
    "    value='Monday',\n",
    "    description='Select a Day:'\n",
    ")\n",
    "\n",
    "time_widget = widgets.Text(\n",
    "    value='20:00:00',\n",
    "    description='Arr. Time (HH:MM:SS)',\n",
    ")\n",
    "\n",
    "confidence_widget = widgets.IntSlider(\n",
    "    value=90,\n",
    "    min=1,\n",
    "    max=100,\n",
    "    step=1,\n",
    "    description='Confidence:',\n",
    "    orientation='horizontal',\n",
    ")\n",
    "\n",
    "button = widgets.Button(\n",
    "    description='Find Journeys'\n",
    ")\n",
    "\n",
    "output = widgets.Output()\n",
    "running = widgets.Label(value='')\n",
    "\n",
    "# Search for the journeys and plot them.\n",
    "def update_profile_return(b):    \n",
    "    output.clear_output()\n",
    "    with output:\n",
    "        running.value = 'running...'\n",
    "        arrival_time = time_widget.value\n",
    "        journey_finder.find_and_plot_journeys(\n",
    "            start_station_name_id=source_widget.value, \n",
    "            end_station_name_id=destination_widget.value, \n",
    "            arrival_datetime=arrival_time,\n",
    "            day=day_widget.value\n",
    "        )\n",
    "        running.value = ''\n",
    "        \n",
    "\n",
    "button.on_click(update_profile_return)\n",
    "output.clear_output()\n",
    "display(source_widget, destination_widget, time_widget, day_widget, confidence_widget, button, running, output)"
   ]
  },
  {
   "cell_type": "code",
   "execution_count": null,
   "id": "99362e10-e052-467f-8754-8f840086ab72",
   "metadata": {},
   "outputs": [],
   "source": []
  }
 ],
 "metadata": {
  "kernelspec": {
   "display_name": "Python 3 (ipykernel)",
   "language": "python",
   "name": "python3"
  },
  "language_info": {
   "codemirror_mode": {
    "name": "ipython",
    "version": 3
   },
   "file_extension": ".py",
   "mimetype": "text/x-python",
   "name": "python",
   "nbconvert_exporter": "python",
   "pygments_lexer": "ipython3",
   "version": "3.11.7"
  }
 },
 "nbformat": 4,
 "nbformat_minor": 5
}
